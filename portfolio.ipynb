{
  "nbformat": 4,
  "nbformat_minor": 0,
  "metadata": {
    "colab": {
      "provenance": [],
      "toc_visible": true
    },
    "kernelspec": {
      "name": "python3",
      "display_name": "Python 3"
    },
    "language_info": {
      "name": "python"
    }
  },
  "cells": [
    {
      "cell_type": "code",
      "execution_count": 16,
      "metadata": {
        "id": "Vo0N3-u2f25L"
      },
      "outputs": [],
      "source": [
        "import matplotlib.pyplot as plt\n",
        "import seaborn as sns\n",
        "import pandas as pd\n",
        "from sklearn.model_selection import train_test_split\n",
        "from sklearn.linear_model import LinearRegression\n",
        "from sklearn.tree import DecisionTreeRegressor\n",
        "from sklearn.metrics import mean_absolute_error, mean_squared_error, r2_score\n",
        "import numpy as np"
      ]
    },
    {
      "cell_type": "code",
      "source": [
        "df = pd.read_excel('student_scores.xlsx')"
      ],
      "metadata": {
        "id": "w-cqnI6NjHXq"
      },
      "execution_count": 5,
      "outputs": []
    },
    {
      "cell_type": "code",
      "source": [
        "print(\"Ukuran dataset:\", df.shape)\n"
      ],
      "metadata": {
        "colab": {
          "base_uri": "https://localhost:8080/"
        },
        "id": "gmDNlTjsip8s",
        "outputId": "20c308a5-76e3-4082-e8e9-fd3c5225b166"
      },
      "execution_count": 6,
      "outputs": [
        {
          "output_type": "stream",
          "name": "stdout",
          "text": [
            "Ukuran dataset: (25, 2)\n"
          ]
        }
      ]
    },
    {
      "cell_type": "code",
      "source": [
        "print(\"\\nInfo data:\")\n",
        "print(df.info())\n"
      ],
      "metadata": {
        "colab": {
          "base_uri": "https://localhost:8080/"
        },
        "id": "Ts9dyjiujlN9",
        "outputId": "d9f2a64d-3dec-4bd1-8b49-827e591f681c"
      },
      "execution_count": 7,
      "outputs": [
        {
          "output_type": "stream",
          "name": "stdout",
          "text": [
            "\n",
            "Info data:\n",
            "<class 'pandas.core.frame.DataFrame'>\n",
            "RangeIndex: 25 entries, 0 to 24\n",
            "Data columns (total 2 columns):\n",
            " #   Column      Non-Null Count  Dtype  \n",
            "---  ------      --------------  -----  \n",
            " 0   Hours (x)   25 non-null     float64\n",
            " 1   Scores (y)  25 non-null     int64  \n",
            "dtypes: float64(1), int64(1)\n",
            "memory usage: 532.0 bytes\n",
            "None\n"
          ]
        }
      ]
    },
    {
      "cell_type": "code",
      "source": [
        "print(\"\\nStatistik deskriptif:\")\n",
        "print(df.describe())"
      ],
      "metadata": {
        "colab": {
          "base_uri": "https://localhost:8080/"
        },
        "id": "9iVthup7j4to",
        "outputId": "c2ea51ef-afd3-4e17-ae6f-43041bcc3ac3"
      },
      "execution_count": 8,
      "outputs": [
        {
          "output_type": "stream",
          "name": "stdout",
          "text": [
            "\n",
            "Statistik deskriptif:\n",
            "       Hours (x)  Scores (y)\n",
            "count  25.000000   25.000000\n",
            "mean    5.012000   51.480000\n",
            "std     2.525094   25.286887\n",
            "min     1.100000   17.000000\n",
            "25%     2.700000   30.000000\n",
            "50%     4.800000   47.000000\n",
            "75%     7.400000   75.000000\n",
            "max     9.200000   95.000000\n"
          ]
        }
      ]
    },
    {
      "cell_type": "code",
      "source": [
        "plt.figure(figsize=(6, 4))\n",
        "sns.scatterplot(x='Hours (x)', y='Scores (y)', data=df)\n",
        "plt.title('Jam Belajar vs Nilai')\n",
        "plt.xlabel('Jam Belajar')\n",
        "plt.ylabel('Nilai')\n",
        "plt.grid(True)\n",
        "plt.show()"
      ],
      "metadata": {
        "colab": {
          "base_uri": "https://localhost:8080/",
          "height": 410
        },
        "id": "Kl4UX8JCj8u3",
        "outputId": "509d0444-09f5-4682-fd3c-b739c57dd82d"
      },
      "execution_count": 9,
      "outputs": [
        {
          "output_type": "display_data",
          "data": {
            "text/plain": [
              "<Figure size 600x400 with 1 Axes>"
            ],
            "image/png": "[encoded data removed]"
          },
          "metadata": {}
        }
      ]
    },
    {
      "cell_type": "code",
      "source": [
        "correlation = df.corr()\n",
        "print(\"\\nKorelasi antar variabel:\")\n",
        "print(correlation)"
      ],
      "metadata": {
        "colab": {
          "base_uri": "https://localhost:8080/"
        },
        "id": "dZ6Lv2hMkAiI",
        "outputId": "fdf832d1-f614-4f79-e7c4-79992cce3ffa"
      },
      "execution_count": 10,
      "outputs": [
        {
          "output_type": "stream",
          "name": "stdout",
          "text": [
            "\n",
            "Korelasi antar variabel:\n",
            "            Hours (x)  Scores (y)\n",
            "Hours (x)    1.000000    0.976191\n",
            "Scores (y)   0.976191    1.000000\n"
          ]
        }
      ]
    },
    {
      "cell_type": "code",
      "source": [
        "sns.heatmap(correlation, annot=True, cmap='coolwarm')\n",
        "plt.title('Heatmap Korelasi')\n",
        "plt.show()"
      ],
      "metadata": {
        "colab": {
          "base_uri": "https://localhost:8080/",
          "height": 452
        },
        "id": "YXt-vWjgkDcZ",
        "outputId": "b41ef1ed-328d-40a7-f4a4-16f3f3c436ba"
      },
      "execution_count": 11,
      "outputs": [
        {
          "output_type": "display_data",
          "data": {
            "text/plain": [
              "<Figure size 640x480 with 2 Axes>"
            ],
            "image/png": "[encoded data removed]"
          },
          "metadata": {}
        }
      ]
    },
    {
      "cell_type": "markdown",
      "source": [
        "feature engineering:"
      ],
      "metadata": {
        "id": "OF0Y1HUlkJ5w"
      }
    },
    {
      "cell_type": "code",
      "source": [
        "# 1. Cek duplikat\n",
        "print(\"Jumlah data duplikat:\", df.duplicated().sum())\n"
      ],
      "metadata": {
        "colab": {
          "base_uri": "https://localhost:8080/"
        },
        "id": "cxVmBHRmkLQF",
        "outputId": "34b5eabe-da7c-4f28-f2ca-d0c17caa3976"
      },
      "execution_count": 12,
      "outputs": [
        {
          "output_type": "stream",
          "name": "stdout",
          "text": [
            "Jumlah data duplikat: 0\n"
          ]
        }
      ]
    },
    {
      "cell_type": "code",
      "source": [
        "# 2. Cek missing values\n",
        "print(\"\\nJumlah missing values per kolom:\")\n",
        "print(df.isnull().sum())"
      ],
      "metadata": {
        "colab": {
          "base_uri": "https://localhost:8080/"
        },
        "id": "oddkqNYwkSwF",
        "outputId": "6aaff5b8-3a38-4fda-9d81-7ba99684c143"
      },
      "execution_count": 13,
      "outputs": [
        {
          "output_type": "stream",
          "name": "stdout",
          "text": [
            "\n",
            "Jumlah missing values per kolom:\n",
            "Hours (x)     0\n",
            "Scores (y)    0\n",
            "dtype: int64\n"
          ]
        }
      ]
    },
    {
      "cell_type": "code",
      "source": [
        "# 3. Visualisasi boxplot untuk outlier\n",
        "plt.figure(figsize=(10, 4))"
      ],
      "metadata": {
        "colab": {
          "base_uri": "https://localhost:8080/",
          "height": 52
        },
        "id": "Q5_ZM5ljkWZj",
        "outputId": "aeca5a2a-510c-441c-ee2f-dfa950d3b98f"
      },
      "execution_count": 14,
      "outputs": [
        {
          "output_type": "execute_result",
          "data": {
            "text/plain": [
              "<Figure size 1000x400 with 0 Axes>"
            ]
          },
          "metadata": {},
          "execution_count": 14
        },
        {
          "output_type": "display_data",
          "data": {
            "text/plain": [
              "<Figure size 1000x400 with 0 Axes>"
            ]
          },
          "metadata": {}
        }
      ]
    },
    {
      "cell_type": "code",
      "source": [
        "plt.subplot(1, 2, 1)\n",
        "sns.boxplot(y=df['Hours (x)'])\n",
        "plt.title('Boxplot Jam Belajar')\n",
        "\n",
        "plt.subplot(1, 2, 2)\n",
        "sns.boxplot(y=df['Scores (y)'])\n",
        "plt.title('Boxplot Nilai')\n",
        "\n",
        "plt.tight_layout()\n",
        "plt.show()"
      ],
      "metadata": {
        "colab": {
          "base_uri": "https://localhost:8080/",
          "height": 487
        },
        "id": "gbtTPxT5kZbw",
        "outputId": "87997ce8-ad80-49f1-a7fd-2a78c6c0c4be"
      },
      "execution_count": 15,
      "outputs": [
        {
          "output_type": "display_data",
          "data": {
            "text/plain": [
              "<Figure size 640x480 with 2 Axes>"
            ],
            "image/png": "[encoded data removed]"
          },
          "metadata": {}
        }
      ]
    },
    {
      "cell_type": "markdown",
      "source": [
        "Modeling"
      ],
      "metadata": {
        "id": "g-aSCF8Ckywb"
      }
    },
    {
      "cell_type": "code",
      "source": [
        "# Mrmisahkan fitur dan target\n",
        "X = df[['Hours (x)']]\n",
        "y = df['Scores (y)']"
      ],
      "metadata": {
        "id": "AC7ilBW5k0nO"
      },
      "execution_count": 17,
      "outputs": []
    },
    {
      "cell_type": "code",
      "source": [
        "# Split data: 80% train, 20% test\n",
        "X_train, X_test, y_train, y_test = train_test_split(X, y, test_size=0.2, random_state=42)"
      ],
      "metadata": {
        "id": "_EiI6LAfk_7w"
      },
      "execution_count": 18,
      "outputs": []
    },
    {
      "cell_type": "code",
      "source": [
        "# Model 1: Linear Regression\n",
        "lr_model = LinearRegression()\n",
        "lr_model.fit(X_train, y_train)\n",
        "y_pred_lr = lr_model.predict(X_test)\n",
        "\n",
        "# Model 2: Decision Tree Regressor\n",
        "dt_model = DecisionTreeRegressor(random_state=42)\n",
        "dt_model.fit(X_train, y_train)\n",
        "y_pred_dt = dt_model.predict(X_test)\n",
        "\n",
        "# Fungsi evaluasi\n",
        "def evaluate_model(y_true, y_pred, model_name):\n",
        "    print(f\"\\nEvaluasi {model_name}\")\n",
        "    print(\"MAE:\", mean_absolute_error(y_true, y_pred))\n",
        "    print(\"MSE:\", mean_squared_error(y_true, y_pred))\n",
        "    print(\"RMSE:\", np.sqrt(mean_squared_error(y_true, y_pred)))\n",
        "    print(\"R2 Score:\", r2_score(y_true, y_pred))\n"
      ],
      "metadata": {
        "id": "QQahSGbxlCkw"
      },
      "execution_count": 19,
      "outputs": []
    },
    {
      "cell_type": "code",
      "source": [
        "# Evaluasi kedua model\n",
        "evaluate_model(y_test, y_pred_lr, \"Linear Regression\")\n",
        "evaluate_model(y_test, y_pred_dt, \"Decision Tree\")"
      ],
      "metadata": {
        "colab": {
          "base_uri": "https://localhost:8080/"
        },
        "id": "09A1fWQElLo6",
        "outputId": "5b50f8d4-96dd-4896-ef8f-233050422e5e"
      },
      "execution_count": 22,
      "outputs": [
        {
          "output_type": "stream",
          "name": "stdout",
          "text": [
            "\n",
            "Evaluasi Linear Regression\n",
            "MAE: 3.9207511902099244\n",
            "MSE: 18.943211722315272\n",
            "RMSE: 4.352380006653288\n",
            "R2 Score: 0.9678055545167994\n",
            "\n",
            "Evaluasi Decision Tree\n",
            "MAE: 5.4\n",
            "MSE: 31.7\n",
            "RMSE: 5.630275304103699\n",
            "R2 Score: 0.9461250849762066\n"
          ]
        }
      ]
    },
    {
      "cell_type": "markdown",
      "source": [
        "**KESIMPULAN**\n",
        "Berdasarkan hasil evaluasi, Linear Regression menunjukkan performa yang lebih baik daripada Decision Tree. karena Model ini memiliki\n",
        "Error yang lebih rendah (MAE, MSE, RMSE) sN Nilai R² Score yang lebih tinggi (mendekati 1), yang berarti model mampu menjelaskan variasi data lebih baik.\n",
        "\n",
        "Linear Regression bisa diterapkan sebagai model utama dalam prediksi nilai berdasarkan jam belajar."
      ],
      "metadata": {
        "id": "YitXeD2Zlgpu"
      }
    },
    {
      "cell_type": "code",
      "source": [],
      "metadata": {
        "id": "RHTXqBiDl4ZB"
      },
      "execution_count": null,
      "outputs": []
    }
  ]
}